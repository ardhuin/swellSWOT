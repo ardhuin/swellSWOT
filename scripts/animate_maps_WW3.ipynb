{
 "cells": [
  {
   "cell_type": "code",
   "execution_count": 13,
   "id": "adf4d76c-5153-4be9-bd91-08ebffa0f37d",
   "metadata": {
    "tags": []
   },
   "outputs": [
    {
     "name": "stderr",
     "output_type": "stream",
     "text": [
      "/tmp/ipykernel_9176/734304660.py:18: DeprecationWarning: Starting with ImageIO v3 the behavior of this function will switch to that of iio.v3.imread. To keep the current behavior (and make this warning disappear) use `import imageio.v2 as imageio` or call `imageio.v2.imread` directly.\n",
      "  thisimage=imageio.imread(file)\n"
     ]
    },
    {
     "name": "stdout",
     "output_type": "stream",
     "text": [
      "Reading file: 0 temp000.png\n"
     ]
    },
    {
     "name": "stderr",
     "output_type": "stream",
     "text": [
      "[libopenh264 @ 0x1177d640] [OpenH264] this = 0x0x11ae17d0, Warning:layerId(0) doesn't support profile(578), change to UNSPECIFIC profile\n",
      "[libopenh264 @ 0x1177d640] [OpenH264] this = 0x0x11ae17d0, Warning:bEnableFrameSkip = 0,bitrate can't be controlled for RC_QUALITY_MODE,RC_BITRATE_MODE and RC_TIMESTAMP_MODE without enabling skip frame.\n",
      "[libopenh264 @ 0x1177d640] [OpenH264] this = 0x0x11ae17d0, Warning:Change QP Range from(0,51) to (12,42)\n"
     ]
    },
    {
     "name": "stdout",
     "output_type": "stream",
     "text": [
      "Reading file: 10 temp010.png\n",
      "Reading file: 20 temp020.png\n",
      "Reading file: 30 temp030.png\n",
      "Reading file: 40 temp040.png\n",
      "Reading file: 50 temp050.png\n",
      "Reading file: 60 temp060.png\n",
      "Reading file: 70 temp070.png\n",
      "Reading file: 80 temp080.png\n",
      "Reading file: 90 temp090.png\n",
      "Reading file: 100 temp100.png\n",
      "Reading file: 110 temp110.png\n",
      "Reading file: 120 temp120.png\n",
      "Reading file: 130 temp130.png\n",
      "Reading file: 140 temp140.png\n",
      "Reading file: 150 temp150.png\n",
      "Reading file: 160 temp160.png\n",
      "Reading file: 170 temp170.png\n",
      "Reading file: 180 temp180.png\n",
      "Reading file: 190 temp190.png\n",
      "Reading file: 200 temp200.png\n",
      "Reading file: 210 temp210.png\n",
      "Reading file: 220 temp220.png\n",
      "Reading file: 230 temp230.png\n",
      "Reading file: 240 temp240.png\n",
      "MP4 generated successfully: H18_maps_with_tracks_GQM_202312.mp4\n"
     ]
    }
   ],
   "source": [
    "import os\n",
    "import numpy as np\n",
    "import imageio\n",
    "import glob as glob\n",
    "\n",
    "output_file = 'H18_maps_with_tracks_GQM_202312.mp4'\n",
    "\n",
    "# Read PNG files and create a list of frames\n",
    "frames = []\n",
    "writer=imageio.get_writer(output_file,fps=3)\n",
    "\n",
    "files = sorted(glob.glob('temp???.png'), reverse=False)\n",
    "\n",
    "#print('Number of files:',ntrack,np.mod(ntrack,2),fflip,len(files))\n",
    "step=0\n",
    "for file in files: #[0:4]:\n",
    "     if file.endswith('.png'):\n",
    "        thisimage=imageio.imread(file)\n",
    "        [ny,nx,nc]=np.shape(thisimage) \n",
    "        if (step==0):\n",
    "           ny0=ny;nx0=nx;nc0=nc\n",
    "        if (np.mod(step,10)==0): \n",
    "            print('Reading file:',step, file)\n",
    "            #print(np.shape(thisimage))\n",
    "        \n",
    "        #frames.append(thisimage)\n",
    "        if (nx==nx0 and ny == ny0 and nc == nc0): \n",
    "            writer.append_data(thisimage)\n",
    "            step=step+1\n",
    "        else: \n",
    "            print('SIZE PROBLEM:',nx,nx0,ny,ny0,nc,nc0,file)\n",
    "        \n",
    "# Create the animated GIF\n",
    "#duration = 0.5  # Adjust duration as needed (in seconds)\n",
    "#imageio.mimsave(output_file, frames, duration=duration)\n",
    "#print(f\"Animated GIF generated successfully: {output_file}\")\n",
    "writer.close()\n",
    "print(f\"MP4 generated successfully: {output_file}\")\n"
   ]
  }
 ],
 "metadata": {
  "kernelspec": {
   "display_name": "Python (OPTOOLS)",
   "language": "python",
   "name": "optools"
  },
  "language_info": {
   "codemirror_mode": {
    "name": "ipython",
    "version": 3
   },
   "file_extension": ".py",
   "mimetype": "text/x-python",
   "name": "python",
   "nbconvert_exporter": "python",
   "pygments_lexer": "ipython3",
   "version": "3.9.19"
  }
 },
 "nbformat": 4,
 "nbformat_minor": 5
}
